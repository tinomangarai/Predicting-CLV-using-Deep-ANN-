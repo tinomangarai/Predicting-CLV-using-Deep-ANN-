{
 "cells": [
  {
   "cell_type": "code",
   "execution_count": 2,
   "id": "df6fc453",
   "metadata": {},
   "outputs": [
    {
     "data": {
      "text/html": [
       "<div>\n",
       "<style scoped>\n",
       "    .dataframe tbody tr th:only-of-type {\n",
       "        vertical-align: middle;\n",
       "    }\n",
       "\n",
       "    .dataframe tbody tr th {\n",
       "        vertical-align: top;\n",
       "    }\n",
       "\n",
       "    .dataframe thead th {\n",
       "        text-align: right;\n",
       "    }\n",
       "</style>\n",
       "<table border=\"1\" class=\"dataframe\">\n",
       "  <thead>\n",
       "    <tr style=\"text-align: right;\">\n",
       "      <th></th>\n",
       "      <th>MSISDN</th>\n",
       "      <th>Age on Network</th>\n",
       "      <th>Recent Revenue Segment</th>\n",
       "      <th>Inactive Days</th>\n",
       "      <th>Recent Active Date</th>\n",
       "      <th>Recent Voice Usage Date</th>\n",
       "      <th>Usual Voice Appearance Week</th>\n",
       "      <th>Recent Data Usage Date</th>\n",
       "      <th>Usual Data Appearance Week</th>\n",
       "      <th>Recent SMS Usage Date</th>\n",
       "      <th>...</th>\n",
       "      <th>Recent ACS Borrow Date</th>\n",
       "      <th>Recent ACS Return Date</th>\n",
       "      <th>Churn Probability</th>\n",
       "      <th>Voice Revenue (Last 30 Days)</th>\n",
       "      <th>Data Revenue (Last 30 Days)</th>\n",
       "      <th>SMS Revenue (Last 30 Days)</th>\n",
       "      <th>ACS Commission (Last 30 Days)</th>\n",
       "      <th>Total Revenue (Last 30 Days)</th>\n",
       "      <th>Recharge Amount (Last 30 Days)</th>\n",
       "      <th>Region</th>\n",
       "    </tr>\n",
       "  </thead>\n",
       "  <tbody>\n",
       "    <tr>\n",
       "      <th>0</th>\n",
       "      <td>263783833265</td>\n",
       "      <td>6-12 Months</td>\n",
       "      <td>HVC</td>\n",
       "      <td>29</td>\n",
       "      <td>2023-10-22</td>\n",
       "      <td>2023-10-20 00:00:00</td>\n",
       "      <td>First</td>\n",
       "      <td>2023-10-22 00:00:00</td>\n",
       "      <td>First</td>\n",
       "      <td>-</td>\n",
       "      <td>...</td>\n",
       "      <td>-</td>\n",
       "      <td>-</td>\n",
       "      <td>0.425</td>\n",
       "      <td>5633.852990</td>\n",
       "      <td>646280.015138</td>\n",
       "      <td>0.000000</td>\n",
       "      <td>0.0</td>\n",
       "      <td>651913.868128</td>\n",
       "      <td>92.490119</td>\n",
       "      <td>Harare</td>\n",
       "    </tr>\n",
       "    <tr>\n",
       "      <th>1</th>\n",
       "      <td>263779406999</td>\n",
       "      <td>12-24 Months</td>\n",
       "      <td>HVC</td>\n",
       "      <td>29</td>\n",
       "      <td>2023-10-22</td>\n",
       "      <td>2023-10-05 00:00:00</td>\n",
       "      <td>First</td>\n",
       "      <td>2023-10-22 00:00:00</td>\n",
       "      <td>First</td>\n",
       "      <td>-</td>\n",
       "      <td>...</td>\n",
       "      <td>-</td>\n",
       "      <td>-</td>\n",
       "      <td>0.535</td>\n",
       "      <td>2581.852193</td>\n",
       "      <td>435654.727654</td>\n",
       "      <td>0.000000</td>\n",
       "      <td>0.0</td>\n",
       "      <td>470276.625696</td>\n",
       "      <td>71.146245</td>\n",
       "      <td>Harare</td>\n",
       "    </tr>\n",
       "    <tr>\n",
       "      <th>2</th>\n",
       "      <td>263774021704</td>\n",
       "      <td>24+ Months</td>\n",
       "      <td>HVC</td>\n",
       "      <td>29</td>\n",
       "      <td>2023-10-22</td>\n",
       "      <td>2023-10-21 00:00:00</td>\n",
       "      <td>First</td>\n",
       "      <td>2023-10-22 00:00:00</td>\n",
       "      <td>First</td>\n",
       "      <td>2023-10-21 00:00:00</td>\n",
       "      <td>...</td>\n",
       "      <td>-</td>\n",
       "      <td>-</td>\n",
       "      <td>0.585</td>\n",
       "      <td>30604.791304</td>\n",
       "      <td>397976.284585</td>\n",
       "      <td>4090.656126</td>\n",
       "      <td>0.0</td>\n",
       "      <td>432671.732016</td>\n",
       "      <td>61.660079</td>\n",
       "      <td>Harare</td>\n",
       "    </tr>\n",
       "    <tr>\n",
       "      <th>3</th>\n",
       "      <td>263778829003</td>\n",
       "      <td>24+ Months</td>\n",
       "      <td>HVC</td>\n",
       "      <td>29</td>\n",
       "      <td>2023-10-22</td>\n",
       "      <td>2023-10-22 00:00:00</td>\n",
       "      <td>Second</td>\n",
       "      <td>2023-10-22 00:00:00</td>\n",
       "      <td>Second</td>\n",
       "      <td>2023-10-08 00:00:00</td>\n",
       "      <td>...</td>\n",
       "      <td>-</td>\n",
       "      <td>-</td>\n",
       "      <td>0.420</td>\n",
       "      <td>22014.850593</td>\n",
       "      <td>375841.897233</td>\n",
       "      <td>778.156522</td>\n",
       "      <td>0.0</td>\n",
       "      <td>398634.904348</td>\n",
       "      <td>57.707510</td>\n",
       "      <td>Harare</td>\n",
       "    </tr>\n",
       "    <tr>\n",
       "      <th>4</th>\n",
       "      <td>263789004763</td>\n",
       "      <td>12-24 Months</td>\n",
       "      <td>HVC</td>\n",
       "      <td>29</td>\n",
       "      <td>2023-10-22</td>\n",
       "      <td>2023-10-18 00:00:00</td>\n",
       "      <td>First</td>\n",
       "      <td>2023-10-22 00:00:00</td>\n",
       "      <td>First</td>\n",
       "      <td>2023-10-20 00:00:00</td>\n",
       "      <td>...</td>\n",
       "      <td>-</td>\n",
       "      <td>-</td>\n",
       "      <td>0.450</td>\n",
       "      <td>14477.571542</td>\n",
       "      <td>382401.073709</td>\n",
       "      <td>1733.543083</td>\n",
       "      <td>0.0</td>\n",
       "      <td>398612.188334</td>\n",
       "      <td>56.916996</td>\n",
       "      <td>Harare</td>\n",
       "    </tr>\n",
       "  </tbody>\n",
       "</table>\n",
       "<p>5 rows × 22 columns</p>\n",
       "</div>"
      ],
      "text/plain": [
       "         MSISDN Age on Network Recent Revenue Segment  Inactive Days  \\\n",
       "0  263783833265    6-12 Months                    HVC             29   \n",
       "1  263779406999   12-24 Months                    HVC             29   \n",
       "2  263774021704     24+ Months                    HVC             29   \n",
       "3  263778829003     24+ Months                    HVC             29   \n",
       "4  263789004763   12-24 Months                    HVC             29   \n",
       "\n",
       "  Recent Active Date Recent Voice Usage Date Usual Voice Appearance Week  \\\n",
       "0         2023-10-22     2023-10-20 00:00:00                       First   \n",
       "1         2023-10-22     2023-10-05 00:00:00                       First   \n",
       "2         2023-10-22     2023-10-21 00:00:00                       First   \n",
       "3         2023-10-22     2023-10-22 00:00:00                      Second   \n",
       "4         2023-10-22     2023-10-18 00:00:00                       First   \n",
       "\n",
       "  Recent Data Usage Date Usual Data Appearance Week Recent SMS Usage Date  \\\n",
       "0    2023-10-22 00:00:00                      First                     -   \n",
       "1    2023-10-22 00:00:00                      First                     -   \n",
       "2    2023-10-22 00:00:00                      First   2023-10-21 00:00:00   \n",
       "3    2023-10-22 00:00:00                     Second   2023-10-08 00:00:00   \n",
       "4    2023-10-22 00:00:00                      First   2023-10-20 00:00:00   \n",
       "\n",
       "   ... Recent ACS Borrow Date Recent ACS Return Date Churn Probability  \\\n",
       "0  ...                      -                      -             0.425   \n",
       "1  ...                      -                      -             0.535   \n",
       "2  ...                      -                      -             0.585   \n",
       "3  ...                      -                      -             0.420   \n",
       "4  ...                      -                      -             0.450   \n",
       "\n",
       "  Voice Revenue (Last 30 Days)  Data Revenue (Last 30 Days)  \\\n",
       "0                  5633.852990                646280.015138   \n",
       "1                  2581.852193                435654.727654   \n",
       "2                 30604.791304                397976.284585   \n",
       "3                 22014.850593                375841.897233   \n",
       "4                 14477.571542                382401.073709   \n",
       "\n",
       "   SMS Revenue (Last 30 Days)  ACS Commission (Last 30 Days)  \\\n",
       "0                    0.000000                            0.0   \n",
       "1                    0.000000                            0.0   \n",
       "2                 4090.656126                            0.0   \n",
       "3                  778.156522                            0.0   \n",
       "4                 1733.543083                            0.0   \n",
       "\n",
       "   Total Revenue (Last 30 Days)  Recharge Amount (Last 30 Days)  Region  \n",
       "0                 651913.868128                       92.490119  Harare  \n",
       "1                 470276.625696                       71.146245  Harare  \n",
       "2                 432671.732016                       61.660079  Harare  \n",
       "3                 398634.904348                       57.707510  Harare  \n",
       "4                 398612.188334                       56.916996  Harare  \n",
       "\n",
       "[5 rows x 22 columns]"
      ]
     },
     "execution_count": 2,
     "metadata": {},
     "output_type": "execute_result"
    }
   ],
   "source": [
    "import pandas as pd\n",
    "\n",
    "# Specify the file path\n",
    "file_path = r\"C:\\\\Users\\\\Tinotenda Mangarai\\\\Documents\\\\Clients\\\\Kudzi\\\\data diss\\\\Harare North.xlsx\"\n",
    "output_file_path = r\"C:\\Users\\Tinotenda Mangarai\\Documents\\Clients\\Kudzi\\data diss\\Harare North.csv\"\n",
    "\n",
    "# Read the dataset into a pandas DataFrame\n",
    "df = pd.read_excel(file_path)\n",
    "\n",
    "# Add a new column named \"Region\" with the value \"Harare\"\n",
    "df[\"Region\"] = \"Harare North\"\n",
    "\n",
    "# Save the DataFrame as a CSV file\n",
    "df.to_csv(output_file_path, index=False)\n",
    "\n",
    "print(\"Dataset saved successfully as a CSV file.\")"
   ]
  },
  {
   "cell_type": "code",
   "execution_count": 4,
   "id": "3e3da54f",
   "metadata": {},
   "outputs": [
    {
     "name": "stdout",
     "output_type": "stream",
     "text": [
      "Dataset saved successfully as a CSV file.\n"
     ]
    }
   ],
   "source": [
    "# Specify the file path\n",
    "file_path = r\"C:\\\\Users\\\\Tinotenda Mangarai\\\\Documents\\\\Clients\\\\Kudzi\\\\data diss\\\\Harare South.xlsx\"\n",
    "output_file_path = r\"C:\\Users\\Tinotenda Mangarai\\Documents\\Clients\\Kudzi\\data diss\\Harare South.csv\"\n",
    "\n",
    "# Read the dataset into a pandas DataFrame\n",
    "df = pd.read_excel(file_path)\n",
    "\n",
    "# Add a new column named \"Region\" with the value \"Harare\"\n",
    "df[\"Region\"] = \"Harare South\"\n",
    "\n",
    "# Save the DataFrame as a CSV file\n",
    "df.to_csv(output_file_path, index=False)\n",
    "\n",
    "print(\"Dataset saved successfully as a CSV file.\")"
   ]
  },
  {
   "cell_type": "code",
   "execution_count": 5,
   "id": "bac9aaec",
   "metadata": {},
   "outputs": [
    {
     "name": "stdout",
     "output_type": "stream",
     "text": [
      "Dataset saved successfully as Manicaland.csv.\n"
     ]
    }
   ],
   "source": [
    "# Specify the file paths\n",
    "file_path = r\"C:\\Users\\Tinotenda Mangarai\\Documents\\Clients\\Kudzi\\data diss\\manicaland.xlsx\"\n",
    "output_file_path = r\"C:\\Users\\Tinotenda Mangarai\\Documents\\Clients\\Kudzi\\data diss\\manicaland.csv\"\n",
    "\n",
    "# Read the dataset into a pandas DataFrame\n",
    "df = pd.read_excel(file_path)\n",
    "\n",
    "# Add a new column named \"Region\" with the value \"manicaland\"\n",
    "df[\"Region\"] = \"Manicaland\"\n",
    "\n",
    "# Save the DataFrame as a CSV file with the name \"Manicalnd.csv\"\n",
    "df.to_csv(output_file_path, index=False)\n",
    "\n",
    "print(\"Dataset saved successfully as Manicaland.csv.\")"
   ]
  },
  {
   "cell_type": "code",
   "execution_count": 6,
   "id": "4f86df6f",
   "metadata": {},
   "outputs": [
    {
     "name": "stdout",
     "output_type": "stream",
     "text": [
      "Dataset saved successfully as Mashonaland East.csv.\n"
     ]
    }
   ],
   "source": [
    "# Specify the file paths\n",
    "file_path = r\"C:\\Users\\Tinotenda Mangarai\\Documents\\Clients\\Kudzi\\data diss\\Mashonaland East.xlsx\"\n",
    "output_file_path = r\"C:\\Users\\Tinotenda Mangarai\\Documents\\Clients\\Kudzi\\data diss\\Mashonaland East.csv\"\n",
    "\n",
    "# Read the dataset into a pandas DataFrame\n",
    "df = pd.read_excel(file_path)\n",
    "\n",
    "# Add a new column named \"Region\" with the value \"mashonaland east\"\n",
    "df[\"Region\"] = \"Mashonaland East\"\n",
    "\n",
    "# Save the DataFrame as a CSV file with the name \"Mashonaland East.csv\"\n",
    "df.to_csv(output_file_path, index=False)\n",
    "\n",
    "print(\"Dataset saved successfully as Mashonaland East.csv.\")"
   ]
  },
  {
   "cell_type": "code",
   "execution_count": 7,
   "id": "9556386f",
   "metadata": {},
   "outputs": [
    {
     "name": "stdout",
     "output_type": "stream",
     "text": [
      "Dataset saved successfully as Mashonaland West.csv.\n"
     ]
    }
   ],
   "source": [
    "# Specify the file paths\n",
    "file_path = r\"C:\\Users\\Tinotenda Mangarai\\Documents\\Clients\\Kudzi\\data diss\\Mashonaland West.xlsx\"\n",
    "output_file_path = r\"C:\\Users\\Tinotenda Mangarai\\Documents\\Clients\\Kudzi\\data diss\\Mashonaland West.csv\"\n",
    "\n",
    "# Read the dataset into a pandas DataFrame\n",
    "df = pd.read_excel(file_path)\n",
    "\n",
    "# Add a new column named \"Region\" with the value \"mashonaland west\"\n",
    "df[\"Region\"] = \"Mashonaland West\"\n",
    "\n",
    "# Save the DataFrame as a CSV file with the name \"Mashonaland wesst.csv\"\n",
    "df.to_csv(output_file_path, index=False)\n",
    "\n",
    "print(\"Dataset saved successfully as Mashonaland West.csv.\")"
   ]
  },
  {
   "cell_type": "code",
   "execution_count": 8,
   "id": "b0aaef3c",
   "metadata": {},
   "outputs": [
    {
     "name": "stdout",
     "output_type": "stream",
     "text": [
      "Dataset saved successfully as Masvingo.csv.\n"
     ]
    }
   ],
   "source": [
    "# Specify the file paths\n",
    "file_path = r\"C:\\Users\\Tinotenda Mangarai\\Documents\\Clients\\Kudzi\\data diss\\Masvingo.xlsx\"\n",
    "output_file_path = r\"C:\\Users\\Tinotenda Mangarai\\Documents\\Clients\\Kudzi\\data diss\\Masvingo.csv\"\n",
    "\n",
    "# Read the dataset into a pandas DataFrame\n",
    "df = pd.read_excel(file_path)\n",
    "\n",
    "# Add a new column named \"Region\" with the value \"Masvingo\"\n",
    "df[\"Region\"] = \"Masvingo\"\n",
    "\n",
    "# Save the DataFrame as a CSV file with the name \"Masvingo.csv\"\n",
    "df.to_csv(output_file_path, index=False)\n",
    "\n",
    "print(\"Dataset saved successfully as Masvingo.csv.\")"
   ]
  },
  {
   "cell_type": "code",
   "execution_count": 9,
   "id": "206076fb",
   "metadata": {},
   "outputs": [
    {
     "name": "stdout",
     "output_type": "stream",
     "text": [
      "Dataset saved successfully as Matebeleland.csv.\n"
     ]
    }
   ],
   "source": [
    "# Specify the file paths\n",
    "file_path = r\"C:\\Users\\Tinotenda Mangarai\\Documents\\Clients\\Kudzi\\data diss\\Matebeleland.xlsx\"\n",
    "output_file_path = r\"C:\\Users\\Tinotenda Mangarai\\Documents\\Clients\\Kudzi\\data diss\\Matebeleland.csv\"\n",
    "\n",
    "# Read the dataset into a pandas DataFrame\n",
    "df = pd.read_excel(file_path)\n",
    "\n",
    "# Add a new column named \"Region\" with the value \"Matebeleland\"\n",
    "df[\"Region\"] = \"Matebeleland\"\n",
    "\n",
    "# Save the DataFrame as a CSV file with the name \"Masvingo.csv\"\n",
    "df.to_csv(output_file_path, index=False)\n",
    "\n",
    "print(\"Dataset saved successfully as Matebeleland.csv.\")"
   ]
  },
  {
   "cell_type": "code",
   "execution_count": 10,
   "id": "fd236ddb",
   "metadata": {},
   "outputs": [
    {
     "name": "stdout",
     "output_type": "stream",
     "text": [
      "Dataset saved successfully as Midlands.csv.\n"
     ]
    }
   ],
   "source": [
    "# Specify the file paths\n",
    "file_path = r\"C:\\Users\\Tinotenda Mangarai\\Documents\\Clients\\Kudzi\\data diss\\Midlands.xlsx\"\n",
    "output_file_path = r\"C:\\Users\\Tinotenda Mangarai\\Documents\\Clients\\Kudzi\\data diss\\Midlands.csv\"\n",
    "\n",
    "# Read the dataset into a pandas DataFrame\n",
    "df = pd.read_excel(file_path)\n",
    "\n",
    "# Add a new column named \"Region\" with the value \"Midlands\"\n",
    "df[\"Region\"] = \"Midlands\"\n",
    "\n",
    "# Save the DataFrame as a CSV file with the name \"Masvingo.csv\"\n",
    "df.to_csv(output_file_path, index=False)\n",
    "\n",
    "print(\"Dataset saved successfully as Midlands.csv.\")"
   ]
  },
  {
   "cell_type": "code",
   "execution_count": 11,
   "id": "a9cd1531",
   "metadata": {},
   "outputs": [
    {
     "name": "stdout",
     "output_type": "stream",
     "text": [
      "Merged dataset saved successfully as Econet data.csv.\n"
     ]
    }
   ],
   "source": [
    "# Merging the datasets\n",
    "# Specify the file paths of the individual datasets\n",
    "file_paths = [\n",
    "    r\"C:\\Users\\Tinotenda Mangarai\\Documents\\Clients\\Kudzi\\data diss\\Harare North.csv\",\n",
    "    r\"C:\\Users\\Tinotenda Mangarai\\Documents\\Clients\\Kudzi\\data diss\\Harare South.csv\",\n",
    "    r\"C:\\Users\\Tinotenda Mangarai\\Documents\\Clients\\Kudzi\\data diss\\manicaland.csv\",\n",
    "    r\"C:\\Users\\Tinotenda Mangarai\\Documents\\Clients\\Kudzi\\data diss\\Mashonaland East.csv\",\n",
    "    r\"C:\\Users\\Tinotenda Mangarai\\Documents\\Clients\\Kudzi\\data diss\\Mashonaland West.csv\",\n",
    "    r\"C:\\Users\\Tinotenda Mangarai\\Documents\\Clients\\Kudzi\\data diss\\Masvingo.csv\",\n",
    "    r\"C:\\Users\\Tinotenda Mangarai\\Documents\\Clients\\Kudzi\\data diss\\Matebeleland.csv\",\n",
    "    r\"C:\\Users\\Tinotenda Mangarai\\Documents\\Clients\\Kudzi\\data diss\\Midlands.csv\"\n",
    "]\n",
    "\n",
    "# Create an empty list to store the DataFrames\n",
    "dfs = []\n",
    "\n",
    "# Read each dataset into a DataFrame and append it to the list\n",
    "for file_path in file_paths:\n",
    "    df = pd.read_csv(file_path)\n",
    "    dfs.append(df)\n",
    "\n",
    "# Concatenate the DataFrames vertically\n",
    "merged_df = pd.concat(dfs)\n",
    "\n",
    "# Save the merged DataFrame as \"Econet data.csv\"\n",
    "output_file_path = r\"C:\\Users\\Tinotenda Mangarai\\Documents\\Clients\\Kudzi\\data diss\\Econet data.csv\"\n",
    "merged_df.to_csv(output_file_path, index=False)\n",
    "\n",
    "print(\"Merged dataset saved successfully as Econet data.csv.\")"
   ]
  },
  {
   "cell_type": "code",
   "execution_count": null,
   "id": "c1386e73",
   "metadata": {},
   "outputs": [],
   "source": []
  }
 ],
 "metadata": {
  "kernelspec": {
   "display_name": "Python 3 (ipykernel)",
   "language": "python",
   "name": "python3"
  },
  "language_info": {
   "codemirror_mode": {
    "name": "ipython",
    "version": 3
   },
   "file_extension": ".py",
   "mimetype": "text/x-python",
   "name": "python",
   "nbconvert_exporter": "python",
   "pygments_lexer": "ipython3",
   "version": "3.10.9"
  }
 },
 "nbformat": 4,
 "nbformat_minor": 5
}
